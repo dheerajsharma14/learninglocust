{
 "cells": [
  {
   "cell_type": "markdown",
   "metadata": {},
   "source": [
    "# Learning Locust"
   ]
  },
  {
   "cell_type": "markdown",
   "metadata": {},
   "source": [
    "## Installation\n",
    "- pip install locust"
   ]
  },
  {
   "cell_type": "code",
   "execution_count": null,
   "metadata": {},
   "outputs": [],
   "source": []
  },
  {
   "cell_type": "markdown",
   "metadata": {},
   "source": [
    "## Running in Distributed Mode\n",
    "- One Master, Multiple Workers (locust instance). Master coordinate the tests, collect stats, metrics, messages, errors, etc.. and workers does the execution\n",
    "- One worker will take one CPU core. # of locust instances which can run on one machine is number of CPU cores it has\n",
    "- run the master first, then run workers by specifying master IP and port combination (default 5557)\n",
    "- do not use the pop method to extract the users rather use random module to randomize the users in these workers. it will reduce probablity of picking same users which will be certain in pop method.\n",
    "- Advance methods exist where workers can communicate with each other as well to give exclusivity to users management.\n",
    "- Supports headless mode"
   ]
  },
  {
   "cell_type": "code",
   "execution_count": null,
   "metadata": {},
   "outputs": [],
   "source": []
  }
 ],
 "metadata": {
  "kernelspec": {
   "display_name": "Python 3",
   "language": "python",
   "name": "python3"
  }
 },
 "nbformat": 4,
 "nbformat_minor": 2
}
